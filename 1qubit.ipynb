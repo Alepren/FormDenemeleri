{
 "cells": [
  {
   "cell_type": "markdown",
   "metadata": {},
   "source": [
    "# South Korea Qiskit Hackathon'20 - Qiskit Metal exercise\n",
    "\n",
    "## Preparation"
   ]
  },
  {
   "cell_type": "code",
   "execution_count": 1,
   "metadata": {},
   "outputs": [],
   "source": [
    "%load_ext autoreload\n",
    "%autoreload 2"
   ]
  },
  {
   "cell_type": "markdown",
   "metadata": {},
   "source": [
    "*Make sure to have the right kernel selected!*"
   ]
  },
  {
   "cell_type": "code",
   "execution_count": 4,
   "metadata": {},
   "outputs": [
    {
     "data": {
      "text/html": [
       "\n",
       "    <h1 style=\"\n",
       "        background: #12c2e9;  /* fallback for old browsers */\n",
       "        background: -webkit-linear-gradient(to right, #d4418e 0%, #0652c5 74%);  /* Chrome 10-25, Safari 5.1-6 */\n",
       "        background: linear-gradient(315deg, #d4418e 0%, #0652c5 74%); /* W3C, IE 10+/ Edge, Firefox 16+, Chrome 26+, Opera 12+, Safari 7+ */\n",
       "        margin-top: 50px;\n",
       "        border-style: outset;\n",
       "        padding-top:100px;\n",
       "        padding-bottom:50px;\n",
       "        padding-left:25px;\n",
       "        color: white;\n",
       "    \"> Welcome to Qiskit Metal! <h1>\n",
       "        "
      ],
      "text/plain": [
       "<IPython.core.display.HTML object>"
      ]
     },
     "metadata": {},
     "output_type": "display_data"
    }
   ],
   "source": [
    "import qiskit_metal as metal\n",
    "from qiskit_metal import designs, draw\n",
    "from qiskit_metal import MetalGUI, Dict, open_docs\n",
    "\n",
    "%metal_heading Welcome to Qiskit Metal!"
   ]
  },
  {
   "cell_type": "code",
   "execution_count": 6,
   "metadata": {},
   "outputs": [],
   "source": [
    "from qiskit_metal.qlibrary.qubits.transmon_pocket_cl import TransmonPocketCL\n",
    "\n",
    "from qiskit_metal.qlibrary.tlines.meandered import RouteMeander\n",
    "from qiskit_metal.qlibrary.tlines.pathfinder import RoutePathfinder\n",
    "\n",
    "from qiskit_metal.qlibrary.lumped.cap_3_interdigital import Cap3Interdigital\n",
    "from qiskit_metal.qlibrary.terminations.launchpad_wb import LaunchpadWirebond"
   ]
  },
  {
   "cell_type": "code",
   "execution_count": 8,
   "metadata": {},
   "outputs": [],
   "source": [
    "design = metal.designs.DesignPlanar()\n",
    "gui = metal.MetalGUI(design)"
   ]
  },
  {
   "cell_type": "markdown",
   "metadata": {},
   "source": [
    "Since we are likely to be making many changes while tuning and modifying our design, we will enable overwriting. We can also check all of the chip properties to see if we want to change the size or any other parameter."
   ]
  },
  {
   "cell_type": "code",
   "execution_count": 10,
   "metadata": {},
   "outputs": [
    {
     "data": {
      "text/plain": [
       "{'material': 'silicon',\n",
       " 'layer_start': '0',\n",
       " 'layer_end': '2048',\n",
       " 'size': {'center_x': '0.0mm',\n",
       "  'center_y': '0.0mm',\n",
       "  'center_z': '0.0mm',\n",
       "  'size_x': '9mm',\n",
       "  'size_y': '6mm',\n",
       "  'size_z': '-750um',\n",
       "  'sample_holder_top': '890um',\n",
       "  'sample_holder_bottom': '1650um'}}"
      ]
     },
     "execution_count": 10,
     "metadata": {},
     "output_type": "execute_result"
    }
   ],
   "source": [
    "design.overwrite_enabled = True\n",
    "design.chips.main"
   ]
  },
  {
   "cell_type": "markdown",
   "metadata": {},
   "source": [
    "We will add the two qubits. We know we will want each qubit to have two connection pads, one for readout, and another for the connection to the other qubit. We can see any options the qubit qcomponent has to figure out what we might want to modify when creating the component. This will include the components default options (which the component designer included) as well as renderer options (which are added based on what renderers are present in Metal)."
   ]
  },
  {
   "cell_type": "code",
   "execution_count": 13,
   "metadata": {},
   "outputs": [
    {
     "data": {
      "text/plain": [
       "{'pos_x': '0.0um',\n",
       " 'pos_y': '0.0um',\n",
       " 'orientation': '0.0',\n",
       " 'chip': 'main',\n",
       " 'layer': '1',\n",
       " 'connection_pads': {},\n",
       " '_default_connection_pads': {'pad_gap': '15um',\n",
       "  'pad_width': '125um',\n",
       "  'pad_height': '30um',\n",
       "  'pad_cpw_shift': '5um',\n",
       "  'pad_cpw_extent': '25um',\n",
       "  'cpw_width': 'cpw_width',\n",
       "  'cpw_gap': 'cpw_gap',\n",
       "  'cpw_extend': '100um',\n",
       "  'pocket_extent': '5um',\n",
       "  'pocket_rise': '65um',\n",
       "  'loc_W': '+1',\n",
       "  'loc_H': '+1'},\n",
       " 'pad_gap': '30um',\n",
       " 'inductor_width': '20um',\n",
       " 'pad_width': '455um',\n",
       " 'pad_height': '90um',\n",
       " 'pocket_width': '650um',\n",
       " 'pocket_height': '650um',\n",
       " 'make_CL': True,\n",
       " 'cl_gap': '6um',\n",
       " 'cl_width': '10um',\n",
       " 'cl_length': '20um',\n",
       " 'cl_ground_gap': '6um',\n",
       " 'cl_pocket_edge': '0',\n",
       " 'cl_off_center': '50um',\n",
       " 'hfss_wire_bonds': False,\n",
       " 'q3d_wire_bonds': False,\n",
       " 'aedt_q3d_wire_bonds': False,\n",
       " 'aedt_hfss_wire_bonds': False,\n",
       " 'hfss_inductance': '10nH',\n",
       " 'hfss_capacitance': 0,\n",
       " 'hfss_resistance': 0,\n",
       " 'hfss_mesh_kw_jj': 7e-06,\n",
       " 'q3d_inductance': '10nH',\n",
       " 'q3d_capacitance': 0,\n",
       " 'q3d_resistance': 0,\n",
       " 'q3d_mesh_kw_jj': 7e-06,\n",
       " 'gds_cell_name': 'my_other_junction',\n",
       " 'aedt_q3d_inductance': 1e-08,\n",
       " 'aedt_q3d_capacitance': 0,\n",
       " 'aedt_hfss_inductance': 1e-08,\n",
       " 'aedt_hfss_capacitance': 0}"
      ]
     },
     "execution_count": 13,
     "metadata": {},
     "output_type": "execute_result"
    }
   ],
   "source": [
    "TransmonPocketCL.get_template_options(design)"
   ]
  },
  {
   "cell_type": "markdown",
   "metadata": {},
   "source": [
    "We will then add those two qubits with the options we are wanting to define, these can all be modified easily later too.\n",
    "The rebuild command is included so the changes can be seen immediately in the GUI."
   ]
  },
  {
   "cell_type": "code",
   "execution_count": 33,
   "metadata": {},
   "outputs": [],
   "source": [
    "options =  dict(\n",
    "    pad_width = '425 um', \n",
    "    pocket_height = '650um',\n",
    "    cl_pocket_edge = '180',\n",
    "    connection_pads=dict(\n",
    "        readout = dict(loc_W=+1, loc_H=+1)\n",
    "    ))\n",
    "        \n",
    "Q1 = TransmonPocketCL(design,'Q1', options = dict(\n",
    "        pos_x='0.7mm', \n",
    "        pos_y='0mm', \n",
    "        gds_cell_name ='FakeJunction_01',\n",
    "        hfss_inductance ='14nH',\n",
    "        **options))\n",
    "\n",
    "\n",
    "gui.rebuild()\n",
    "gui.autoscale()"
   ]
  },
  {
   "cell_type": "code",
   "execution_count": 50,
   "metadata": {},
   "outputs": [
    {
     "data": {
      "text/plain": [
       "\u001b[95m\u001b[1mname:    \u001b[94m\u001b[1mQ1\u001b[0m\n",
       "\u001b[95m\u001b[1mclass:   \u001b[94m\u001b[1mTransmonPocketCL      \u001b[0m\n",
       "\u001b[95m\u001b[1moptions: \u001b[0m\n",
       "  'pos_x'             : '0.7mm',                      \n",
       "  'pos_y'             : '0mm',                        \n",
       "  'orientation'       : '0.0',                        \n",
       "  'chip'              : 'main',                       \n",
       "  'layer'             : '1',                          \n",
       "  \u001b[1m'connection_pads'   \u001b[0m: {\n",
       "       \u001b[1m'readout'           \u001b[0m: {\n",
       "            'pad_gap'           : '15um',                       \n",
       "            'pad_width'         : '125um',                      \n",
       "            'pad_height'        : '30um',                       \n",
       "            'pad_cpw_shift'     : '5um',                        \n",
       "            'pad_cpw_extent'    : '25um',                       \n",
       "            'cpw_width'         : 'cpw_width',                  \n",
       "            'cpw_gap'           : 'cpw_gap',                    \n",
       "            'cpw_extend'        : '100um',                      \n",
       "            'pocket_extent'     : '5um',                        \n",
       "            'pocket_rise'       : '65um',                       \n",
       "            'loc_W'             : 1,                            \n",
       "            'loc_H'             : 1,                            \n",
       "                             },\n",
       "                        },\n",
       "  'pad_gap'           : '30um',                       \n",
       "  'inductor_width'    : '20um',                       \n",
       "  'pad_width'         : '425 um',                     \n",
       "  'pad_height'        : '90um',                       \n",
       "  'pocket_width'      : '650um',                      \n",
       "  'pocket_height'     : '650um',                      \n",
       "  'make_CL'           : True,                         \n",
       "  'cl_gap'            : '6um',                        \n",
       "  'cl_width'          : '10um',                       \n",
       "  'cl_length'         : '20um',                       \n",
       "  'cl_ground_gap'     : '6um',                        \n",
       "  'cl_pocket_edge'    : '180',                        \n",
       "  'cl_off_center'     : '50um',                       \n",
       "  'hfss_wire_bonds'   : False,                        \n",
       "  'q3d_wire_bonds'    : False,                        \n",
       "  'aedt_q3d_wire_bonds': False,                        \n",
       "  'aedt_hfss_wire_bonds': False,                        \n",
       "  'hfss_inductance'   : '14nH',                       \n",
       "  'hfss_capacitance'  : 0,                            \n",
       "  'hfss_resistance'   : 0,                            \n",
       "  'hfss_mesh_kw_jj'   : 7e-06,                        \n",
       "  'q3d_inductance'    : '10nH',                       \n",
       "  'q3d_capacitance'   : 0,                            \n",
       "  'q3d_resistance'    : 0,                            \n",
       "  'q3d_mesh_kw_jj'    : 7e-06,                        \n",
       "  'gds_cell_name'     : 'FakeJunction_01',            \n",
       "  'aedt_q3d_inductance': 1e-08,                        \n",
       "  'aedt_q3d_capacitance': 0,                            \n",
       "  'aedt_hfss_inductance': 1e-08,                        \n",
       "  'aedt_hfss_capacitance': 0,                            \n",
       "\u001b[95m\u001b[1mmodule:  \u001b[94m\u001b[1mqiskit_metal.qlibrary.qubits.transmon_pocket_cl\u001b[0m\n",
       "\u001b[95m\u001b[1mid:      \u001b[94m\u001b[1m8\u001b[0m"
      ]
     },
     "execution_count": 50,
     "metadata": {},
     "output_type": "execute_result"
    }
   ],
   "source": [
    "Q1 "
   ]
  },
  {
   "cell_type": "code",
   "execution_count": 33,
   "metadata": {},
   "outputs": [],
   "source": [
    "cap_Q1 = Cap3Interdigital(design, 'Cap_Q1', options= dict(pos_x='2.5mm', pos_y='0.25mm', orientation='90', finger_length = '40um'))\n",
    "\n",
    "gui.rebuild()\n",
    "gui.autoscale()"
   ]
  },
  {
   "cell_type": "code",
   "execution_count": 48,
   "metadata": {},
   "outputs": [
    {
     "data": {
      "text/plain": [
       "\u001b[95m\u001b[1mname:    \u001b[94m\u001b[1mCap_Q1\u001b[0m\n",
       "\u001b[95m\u001b[1mclass:   \u001b[94m\u001b[1mCap3Interdigital      \u001b[0m\n",
       "\u001b[95m\u001b[1moptions: \u001b[0m\n",
       "  'pos_x'             : '2.5mm',                      \n",
       "  'pos_y'             : '0.25mm',                     \n",
       "  'orientation'       : '90',                         \n",
       "  'chip'              : 'main',                       \n",
       "  'layer'             : '1',                          \n",
       "  'trace_width'       : '10um',                       \n",
       "  'finger_length'     : '40um',                       \n",
       "  'pocket_buffer_width_x': '10um',                       \n",
       "  'pocket_buffer_width_y': '30um',                       \n",
       "\u001b[95m\u001b[1mmodule:  \u001b[94m\u001b[1mqiskit_metal.qlibrary.lumped.cap_3_interdigital\u001b[0m\n",
       "\u001b[95m\u001b[1mid:      \u001b[94m\u001b[1m2\u001b[0m"
      ]
     },
     "execution_count": 48,
     "metadata": {},
     "output_type": "execute_result"
    }
   ],
   "source": [
    "cap_Q1 "
   ]
  },
  {
   "cell_type": "code",
   "execution_count": 22,
   "metadata": {},
   "outputs": [],
   "source": [
    "readout_Q1 = RouteMeander(design,'Readout_Q1', options = dict( \n",
    "                                            pin_inputs=Dict(\n",
    "                                                start_pin=Dict(\n",
    "                                                    component='Q1',\n",
    "                                                    pin='readout'),\n",
    "                                                end_pin=Dict(\n",
    "                                                    component='Cap_Q1',\n",
    "                                                    pin='a')\n",
    "                                            ),\n",
    "                                            lead=Dict(\n",
    "                                                start_straight='0.325mm',\n",
    "                                                end_straight = '125um'#put jogs here\n",
    "                                            ),\n",
    "                                            meander=Dict(\n",
    "                                                asymmetry = '-50um'),\n",
    "                                            fillet = \"99um\",\n",
    "                                            total_length = '5mm'))\n",
    "\n",
    "gui.rebuild()\n",
    "gui.autoscale()"
   ]
  },
  {
   "cell_type": "code",
   "execution_count": 46,
   "metadata": {},
   "outputs": [
    {
     "data": {
      "text/plain": [
       "\u001b[95m\u001b[1mname:    \u001b[94m\u001b[1mReadout_Q1\u001b[0m\n",
       "\u001b[95m\u001b[1mclass:   \u001b[94m\u001b[1mRouteMeander          \u001b[0m\n",
       "\u001b[95m\u001b[1moptions: \u001b[0m\n",
       "  'chip'              : 'main',                       \n",
       "  'layer'             : '1',                          \n",
       "  \u001b[1m'pin_inputs'        \u001b[0m: {\n",
       "       \u001b[1m'start_pin'         \u001b[0m: {\n",
       "            'component'         : 'Q1',                         \n",
       "            'pin'               : 'readout',                    \n",
       "                             },\n",
       "       \u001b[1m'end_pin'           \u001b[0m: {\n",
       "            'component'         : 'Cap_Q1',                     \n",
       "            'pin'               : 'a',                          \n",
       "                             },\n",
       "                        },\n",
       "  'fillet'            : '99um',                       \n",
       "  \u001b[1m'lead'              \u001b[0m: {\n",
       "       'start_straight'    : '0.325mm',                    \n",
       "       'end_straight'      : '125um',                      \n",
       "       'start_jogged_extension': '',                           \n",
       "       'end_jogged_extension': '',                           \n",
       "                        },\n",
       "  'total_length'      : '5mm',                        \n",
       "  'trace_width'       : 'cpw_width',                  \n",
       "  \u001b[1m'meander'           \u001b[0m: {\n",
       "       'spacing'           : '200um',                      \n",
       "       'asymmetry'         : '-50um',                      \n",
       "                        },\n",
       "  'snap'              : 'true',                       \n",
       "  'prevent_short_edges': 'true',                       \n",
       "  'hfss_wire_bonds'   : False,                        \n",
       "  'q3d_wire_bonds'    : False,                        \n",
       "  'aedt_q3d_wire_bonds': False,                        \n",
       "  'aedt_hfss_wire_bonds': False,                        \n",
       "  'trace_gap'         : 'cpw_gap',                    \n",
       "  '_actual_length'    : '5.000000000000001 mm',       \n",
       "\u001b[95m\u001b[1mmodule:  \u001b[94m\u001b[1mqiskit_metal.qlibrary.tlines.meandered\u001b[0m\n",
       "\u001b[95m\u001b[1mid:      \u001b[94m\u001b[1m3\u001b[0m"
      ]
     },
     "execution_count": 46,
     "metadata": {},
     "output_type": "execute_result"
    }
   ],
   "source": [
    "readout_Q1 "
   ]
  },
  {
   "cell_type": "code",
   "execution_count": 25,
   "metadata": {},
   "outputs": [],
   "source": [
    "launch_Q1_read = LaunchpadWirebond(design, 'Launch_Q1_Read', options = dict(pos_x = '3.5mm', orientation = '180'))\n",
    "\n",
    "launch_Q1_cl = LaunchpadWirebond(design, 'Launch_Q1_CL', options = dict(pos_x = '1.35mm', pos_y = '-2.5mm', orientation = '90'))\n",
    "\n",
    "gui.rebuild()\n",
    "gui.autoscale()"
   ]
  },
  {
   "cell_type": "code",
   "execution_count": 42,
   "metadata": {},
   "outputs": [
    {
     "data": {
      "text/plain": [
       "\u001b[95m\u001b[1mname:    \u001b[94m\u001b[1mLaunch_Q1_Read\u001b[0m\n",
       "\u001b[95m\u001b[1mclass:   \u001b[94m\u001b[1mLaunchpadWirebond     \u001b[0m\n",
       "\u001b[95m\u001b[1moptions: \u001b[0m\n",
       "  'pos_x'             : '3.5mm',                      \n",
       "  'pos_y'             : '0.0um',                      \n",
       "  'orientation'       : '180',                        \n",
       "  'chip'              : 'main',                       \n",
       "  'layer'             : '1',                          \n",
       "  'trace_width'       : 'cpw_width',                  \n",
       "  'trace_gap'         : 'cpw_gap',                    \n",
       "  'lead_length'       : '25um',                       \n",
       "  'pad_width'         : '80um',                       \n",
       "  'pad_height'        : '80um',                       \n",
       "  'pad_gap'           : '58um',                       \n",
       "  'taper_height'      : '122um',                      \n",
       "\u001b[95m\u001b[1mmodule:  \u001b[94m\u001b[1mqiskit_metal.qlibrary.terminations.launchpad_wb\u001b[0m\n",
       "\u001b[95m\u001b[1mid:      \u001b[94m\u001b[1m4\u001b[0m"
      ]
     },
     "execution_count": 42,
     "metadata": {},
     "output_type": "execute_result"
    }
   ],
   "source": [
    "launch_Q1_read \n"
   ]
  },
  {
   "cell_type": "code",
   "execution_count": 44,
   "metadata": {},
   "outputs": [
    {
     "data": {
      "text/plain": [
       "\u001b[95m\u001b[1mname:    \u001b[94m\u001b[1mLaunch_Q1_CL\u001b[0m\n",
       "\u001b[95m\u001b[1mclass:   \u001b[94m\u001b[1mLaunchpadWirebond     \u001b[0m\n",
       "\u001b[95m\u001b[1moptions: \u001b[0m\n",
       "  'pos_x'             : '1.35mm',                     \n",
       "  'pos_y'             : '-2.5mm',                     \n",
       "  'orientation'       : '90',                         \n",
       "  'chip'              : 'main',                       \n",
       "  'layer'             : '1',                          \n",
       "  'trace_width'       : 'cpw_width',                  \n",
       "  'trace_gap'         : 'cpw_gap',                    \n",
       "  'lead_length'       : '25um',                       \n",
       "  'pad_width'         : '80um',                       \n",
       "  'pad_height'        : '80um',                       \n",
       "  'pad_gap'           : '58um',                       \n",
       "  'taper_height'      : '122um',                      \n",
       "\u001b[95m\u001b[1mmodule:  \u001b[94m\u001b[1mqiskit_metal.qlibrary.terminations.launchpad_wb\u001b[0m\n",
       "\u001b[95m\u001b[1mid:      \u001b[94m\u001b[1m5\u001b[0m"
      ]
     },
     "execution_count": 44,
     "metadata": {},
     "output_type": "execute_result"
    }
   ],
   "source": [
    "launch_Q1_cl "
   ]
  },
  {
   "cell_type": "code",
   "execution_count": 27,
   "metadata": {},
   "outputs": [],
   "source": [
    "tl_Q1 = RoutePathfinder(design, 'TL_Q1', options = dict(\n",
    "                                            fillet='99um',\n",
    "                                            lead=dict(end_straight='150um'),\n",
    "                                            pin_inputs=Dict(\n",
    "                                                start_pin=Dict(\n",
    "                                                    component='Launch_Q1_Read',\n",
    "                                                    pin='tie'),\n",
    "                                                end_pin=Dict(\n",
    "                                                    component='Cap_Q1',\n",
    "                                                    pin='b')\n",
    "                                            )))\n",
    "\n",
    "gui.rebuild()\n",
    "gui.autoscale()"
   ]
  },
  {
   "cell_type": "code",
   "execution_count": 37,
   "metadata": {},
   "outputs": [
    {
     "data": {
      "text/plain": [
       "\u001b[95m\u001b[1mname:    \u001b[94m\u001b[1mTL_Q1\u001b[0m\n",
       "\u001b[95m\u001b[1mclass:   \u001b[94m\u001b[1mRoutePathfinder       \u001b[0m\n",
       "\u001b[95m\u001b[1moptions: \u001b[0m\n",
       "  'chip'              : 'main',                       \n",
       "  'layer'             : '1',                          \n",
       "  \u001b[1m'pin_inputs'        \u001b[0m: {\n",
       "       \u001b[1m'start_pin'         \u001b[0m: {\n",
       "            'component'         : 'Launch_Q1_Read',             \n",
       "            'pin'               : 'tie',                        \n",
       "                             },\n",
       "       \u001b[1m'end_pin'           \u001b[0m: {\n",
       "            'component'         : 'Cap_Q1',                     \n",
       "            'pin'               : 'b',                          \n",
       "                             },\n",
       "                        },\n",
       "  'fillet'            : '99um',                       \n",
       "  \u001b[1m'lead'              \u001b[0m: {\n",
       "       'start_straight'    : '0mm',                        \n",
       "       'end_straight'      : '150um',                      \n",
       "       'start_jogged_extension': '',                           \n",
       "       'end_jogged_extension': '',                           \n",
       "                        },\n",
       "  'total_length'      : '7mm',                        \n",
       "  'trace_width'       : 'cpw_width',                  \n",
       "  \u001b[1m'anchors'           \u001b[0m: {\n",
       "                        },\n",
       "  \u001b[1m'advanced'          \u001b[0m: {\n",
       "       'avoid_collision'   : 'true',                       \n",
       "                        },\n",
       "  'step_size'         : '0.25mm',                     \n",
       "  'hfss_wire_bonds'   : False,                        \n",
       "  'q3d_wire_bonds'    : False,                        \n",
       "  'aedt_q3d_wire_bonds': False,                        \n",
       "  'aedt_hfss_wire_bonds': False,                        \n",
       "  'trace_gap'         : 'cpw_gap',                    \n",
       "  '_actual_length'    : '1.0750176727053897 mm',      \n",
       "\u001b[95m\u001b[1mmodule:  \u001b[94m\u001b[1mqiskit_metal.qlibrary.tlines.pathfinder\u001b[0m\n",
       "\u001b[95m\u001b[1mid:      \u001b[94m\u001b[1m6\u001b[0m"
      ]
     },
     "execution_count": 37,
     "metadata": {},
     "output_type": "execute_result"
    }
   ],
   "source": [
    "tl_Q1 "
   ]
  },
  {
   "cell_type": "code",
   "execution_count": 29,
   "metadata": {},
   "outputs": [],
   "source": [
    "tl_Q1_cl = RoutePathfinder(design, 'TL_Q1_CL', options = dict(\n",
    "                                            fillet='99um',\n",
    "                                            lead=dict(end_straight='150um'),\n",
    "                                            pin_inputs=Dict(\n",
    "                                                start_pin=Dict(\n",
    "                                                    component='Launch_Q1_CL',\n",
    "                                                    pin='tie'),\n",
    "                                                end_pin=Dict(\n",
    "                                                    component='Q1',\n",
    "                                                    pin='Charge_Line')\n",
    "                                            )))\n",
    "\n",
    "gui.rebuild()\n",
    "gui.autoscale()"
   ]
  },
  {
   "cell_type": "code",
   "execution_count": 35,
   "metadata": {},
   "outputs": [
    {
     "data": {
      "text/plain": [
       "\u001b[95m\u001b[1mname:    \u001b[94m\u001b[1mTL_Q1_CL\u001b[0m\n",
       "\u001b[95m\u001b[1mclass:   \u001b[94m\u001b[1mRoutePathfinder       \u001b[0m\n",
       "\u001b[95m\u001b[1moptions: \u001b[0m\n",
       "  'chip'              : 'main',                       \n",
       "  'layer'             : '1',                          \n",
       "  \u001b[1m'pin_inputs'        \u001b[0m: {\n",
       "       \u001b[1m'start_pin'         \u001b[0m: {\n",
       "            'component'         : 'Launch_Q1_CL',               \n",
       "            'pin'               : 'tie',                        \n",
       "                             },\n",
       "       \u001b[1m'end_pin'           \u001b[0m: {\n",
       "            'component'         : 'Q1',                         \n",
       "            'pin'               : 'Charge_Line',                \n",
       "                             },\n",
       "                        },\n",
       "  'fillet'            : '99um',                       \n",
       "  \u001b[1m'lead'              \u001b[0m: {\n",
       "       'start_straight'    : '0mm',                        \n",
       "       'end_straight'      : '150um',                      \n",
       "       'start_jogged_extension': '',                           \n",
       "       'end_jogged_extension': '',                           \n",
       "                        },\n",
       "  'total_length'      : '7mm',                        \n",
       "  'trace_width'       : 'cpw_width',                  \n",
       "  \u001b[1m'anchors'           \u001b[0m: {\n",
       "                        },\n",
       "  \u001b[1m'advanced'          \u001b[0m: {\n",
       "       'avoid_collision'   : 'true',                       \n",
       "                        },\n",
       "  'step_size'         : '0.25mm',                     \n",
       "  'hfss_wire_bonds'   : False,                        \n",
       "  'q3d_wire_bonds'    : False,                        \n",
       "  'aedt_q3d_wire_bonds': False,                        \n",
       "  'aedt_hfss_wire_bonds': False,                        \n",
       "  'trace_gap'         : 'cpw_gap',                    \n",
       "  '_actual_length'    : '2.610508836352695 mm',       \n",
       "\u001b[95m\u001b[1mmodule:  \u001b[94m\u001b[1mqiskit_metal.qlibrary.tlines.pathfinder\u001b[0m\n",
       "\u001b[95m\u001b[1mid:      \u001b[94m\u001b[1m7\u001b[0m"
      ]
     },
     "execution_count": 35,
     "metadata": {},
     "output_type": "execute_result"
    }
   ],
   "source": [
    "tl_Q1_cl"
   ]
  },
  {
   "cell_type": "code",
   "execution_count": 31,
   "metadata": {
    "tags": [
     "nbsphinx-thumbnail"
    ]
   },
   "outputs": [
    {
     "data": {
      "image/png": "[encoded data removed]",
      "text/plain": [
       "<IPython.core.display.Image object>"
      ]
     },
     "metadata": {
      "image/png": {
       "width": 500
      }
     },
     "output_type": "display_data"
    }
   ],
   "source": [
    "gui.screenshot()"
   ]
  },
  {
   "cell_type": "markdown",
   "metadata": {},
   "source": [
    "### Rendering to a GDS File"
   ]
  },
  {
   "cell_type": "markdown",
   "metadata": {},
   "source": [
    "Once all of the tuning is complete, we will want to prepare a GDS file so we can create a mask and fabricate our chip. We first create a gds render instance."
   ]
  },
  {
   "cell_type": "markdown",
   "metadata": {},
   "source": [
    "The various options for the gds renderer can be checked and changed as necessary. A key option is the gds file which holds the cells for your junction ebeam design. Make sure this is pointing at the correct file so they are placed in your final mask at the appropriate locations."
   ]
  },
  {
   "cell_type": "code",
   "execution_count": 138,
   "metadata": {},
   "outputs": [],
   "source": [
    " #gui.main_window.close()"
   ]
  }
 ],
 "metadata": {
  "kernelspec": {
   "display_name": "q_metal",
   "language": "python",
   "name": "q_metal"
  },
  "language_info": {
   "codemirror_mode": {
    "name": "ipython",
    "version": 3
   },
   "file_extension": ".py",
   "mimetype": "text/x-python",
   "name": "python",
   "nbconvert_exporter": "python",
   "pygments_lexer": "ipython3",
   "version": "3.11.10"
  }
 },
 "nbformat": 4,
 "nbformat_minor": 4
}
